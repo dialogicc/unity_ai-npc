{
 "cells": [
  {
   "cell_type": "code",
   "execution_count": 73,
   "metadata": {},
   "outputs": [
    {
     "name": "stdout",
     "output_type": "stream",
     "text": [
      "\n",
      "First Aid Basics:\n",
      "\n",
      "First aid is the immediate assistance given to any person suffering from either a minor or serious illness or injury, with care provided to preserve life, prevent the condition from worsening, or to promote recovery. Here's an overview of key first aid techniques and considerations:\n",
      "\n",
      "Assess the Situation:\n",
      "- Ensure the scene is safe for you and the injured person.\n",
      "- Do not put yourself in danger.\n",
      "\n",
      "Call for Help:\n",
      "- If the situation is serious, call emergency services immediately.\n",
      "- Provide them with clear and concise information about the location and the condition of the person.\n",
      "\n",
      "Check for Responsiveness:\n",
      "- Gently shake the person and shout to see if they respond.\n",
      "- If there is no response, check their airway, breathing, and circulation (the ABCs of first aid).\n",
      "\n",
      "CPR (Cardiopulmonary Resuscitation):\n",
      "- If the person is not breathing, start CPR.\n",
      "- Place the heel of your hand on the center of the chest, place the other hand on top, and press down hard and fast (about 2 inches deep, 100-120 compressions per minute).\n",
      "\n",
      "Control Bleeding:\n",
      "- Apply direct pressure to the wound with a clean cloth or bandage.\n",
      "- If bleeding is severe, continue to apply pressure and seek professional help immediately.\n",
      "\n",
      "Treating Shock:\n",
      "- Lay the person down and elevate their legs slightly.\n",
      "- Keep them warm and calm until help arrives.\n",
      "\n",
      "Wound Care:\n",
      "- Clean the wound with clean water.\n",
      "- Apply an antiseptic and cover it with a sterile bandage.\n",
      "\n",
      "Burns:\n",
      "- Cool the burn under running water for at least 10 minutes.\n",
      "- Cover with a non-stick, sterile bandage or cloth.\n",
      "\n",
      "Choking:\n",
      "- If a person is choking, perform the Heimlich maneuver by standing behind them, placing your arms around their waist, and pulling inward and upward just above their navel.\n",
      "\n",
      "Fractures:\n",
      "- Immobilize the injured area.\n",
      "- Avoid moving the person if you suspect a spinal injury.\n",
      "\n",
      "Poisoning:\n",
      "- Identify the poison and call emergency services.\n",
      "- Follow their instructions and do not induce vomiting unless directed by professionals.\n",
      "\n"
     ]
    }
   ],
   "source": [
    "# Informative Text on First Aid\n",
    "\n",
    "first_aid_text = \"\"\"\n",
    "First Aid Basics:\n",
    "\n",
    "First aid is the immediate assistance given to any person suffering from either a minor or serious illness or injury, with care provided to preserve life, prevent the condition from worsening, or to promote recovery. Here's an overview of key first aid techniques and considerations:\n",
    "\n",
    "Assess the Situation:\n",
    "- Ensure the scene is safe for you and the injured person.\n",
    "- Do not put yourself in danger.\n",
    "\n",
    "Call for Help:\n",
    "- If the situation is serious, call emergency services immediately.\n",
    "- Provide them with clear and concise information about the location and the condition of the person.\n",
    "\n",
    "Check for Responsiveness:\n",
    "- Gently shake the person and shout to see if they respond.\n",
    "- If there is no response, check their airway, breathing, and circulation (the ABCs of first aid).\n",
    "\n",
    "CPR (Cardiopulmonary Resuscitation):\n",
    "- If the person is not breathing, start CPR.\n",
    "- Place the heel of your hand on the center of the chest, place the other hand on top, and press down hard and fast (about 2 inches deep, 100-120 compressions per minute).\n",
    "\n",
    "Control Bleeding:\n",
    "- Apply direct pressure to the wound with a clean cloth or bandage.\n",
    "- If bleeding is severe, continue to apply pressure and seek professional help immediately.\n",
    "\n",
    "Treating Shock:\n",
    "- Lay the person down and elevate their legs slightly.\n",
    "- Keep them warm and calm until help arrives.\n",
    "\n",
    "Wound Care:\n",
    "- Clean the wound with clean water.\n",
    "- Apply an antiseptic and cover it with a sterile bandage.\n",
    "\n",
    "Burns:\n",
    "- Cool the burn under running water for at least 10 minutes.\n",
    "- Cover with a non-stick, sterile bandage or cloth.\n",
    "\n",
    "Choking:\n",
    "- If a person is choking, perform the Heimlich maneuver by standing behind them, placing your arms around their waist, and pulling inward and upward just above their navel.\n",
    "\n",
    "Fractures:\n",
    "- Immobilize the injured area.\n",
    "- Avoid moving the person if you suspect a spinal injury.\n",
    "\n",
    "Poisoning:\n",
    "- Identify the poison and call emergency services.\n",
    "- Follow their instructions and do not induce vomiting unless directed by professionals.\n",
    "\"\"\"\n",
    "\n",
    "print(first_aid_text)\n"
   ]
  },
  {
   "cell_type": "code",
   "execution_count": 202,
   "metadata": {},
   "outputs": [],
   "source": [
    "import requests\n",
    "import re  # Importiere das Modul für reguläre Ausdrücke\n",
    "\n",
    "def query_ollama(prompt, detailed_context):\n",
    "    api_url = 'http://localhost:11434/v1/chat/completions'\n",
    "    \n",
    "    data = {\n",
    "        \"model\": \"gemma:2b\",\n",
    "        \"messages\": detailed_context + [{\"role\": \"user\", \"content\": prompt}]\n",
    "    }\n",
    "    \n",
    "    response = requests.post(api_url, json=data)\n",
    "    if response.status_code == 200:\n",
    "        response_text = response.json()['choices'][0]['message']['content']\n",
    "        # Entferne alles, was in Klammern steht, einschließlich der Klammern\n",
    "        cleaned_text = re.sub(r'\\(.*?\\)', '', response_text)\n",
    "        return cleaned_text.strip()  # Entferne überflüssige Leerzeichen\n",
    "    else:\n",
    "        return f\"Fehler: {response.text}\"\n",
    "\n",
    "# Angepasste und detaillierte Kontextinformationen für ein Erste-Hilfe-Szenario\n",
    "general_context = [\n",
    "    \n",
    "    {\"role\": \"system\", \"content\": \"You are a trained first responder who ask questions. You are responsible for providing immediate assistance in emergency situations before professional medical help arrives. You are knowledgeable in CPR, wound care, managing shock, treating burns, controlling bleeding, and handling choking and fractures.\"},\n",
    "    {\"role\": \"system\", \"content\": \"First Aid Basics: First aid is the immediate assistance given to any person suffering from either a minor or serious illness or injury, with care provided to preserve life, prevent the condition from worsening, or to promote recovery. Here's an overview of key first aid techniques and considerations:\"},\n",
    "    {\"role\": \"system\", \"content\": \"Assess the Situation: Ensure the scene is safe for you and the injured person. Do not put yourself in danger.\"},\n",
    "    {\"role\": \"system\", \"content\": \"Call for Help: If the situation is serious, call emergency services immediately. Provide them with clear and concise information about the location and the condition of the person.\"},\n",
    "    {\"role\": \"system\", \"content\": \"Check for Responsiveness: Gently shake the person and shout to see if they respond. If there is no response, check their airway, breathing, and circulation (the ABCs of first aid).\"},\n",
    "    {\"role\": \"system\", \"content\": \"CPR (Cardiopulmonary Resuscitation): If the person is not breathing, start CPR. Place the heel of your hand on the center of the chest, place the other hand on top, and press down hard and fast (about 2 inches deep, 100-120 compressions per minute).\"},\n",
    "    {\"role\": \"system\", \"content\": \"Control Bleeding: Apply direct pressure to the wound with a clean cloth or bandage. If bleeding is severe, continue to apply pressure and seek professional help immediately.\"},\n",
    "    {\"role\": \"system\", \"content\": \"Treating Shock: Lay the person down and elevate their legs slightly. Keep them warm and calm until help arrives.\"},\n",
    "    {\"role\": \"system\", \"content\": \"Wound Care: Clean the wound with clean water. Apply an antiseptic and cover it with a sterile bandage.\"},\n",
    "    {\"role\": \"system\", \"content\": \"Burns: Cool the burn under running water for at least 10 minutes. Cover with a non-stick, sterile bandage or cloth.\"},\n",
    "    {\"role\": \"system\", \"content\": \"Choking: If a person is choking, perform the Heimlich maneuver by standing behind them, placing your arms around their waist, and pulling inward and upward just above their navel.\"},\n",
    "    {\"role\": \"system\", \"content\": \"Fractures: Immobilize the injured area. Avoid moving the person if you suspect a spinal injury.\"},\n",
    "    {\"role\": \"system\", \"content\": \"Poisoning: Identify the poison and call emergency services. Follow their instructions and do not induce vomiting unless directed by professionals.\"}\n",
    "]\n",
    "\n",
    "incorrect_behavior_context = [\n",
    "    {\"role\": \"system\", \"content\": \"Incorrect behaviors include: ignoring the scene safety, not checking for responsiveness or breathing, not calling for professional medical help, giving inappropriate medical advice, and panicking. Examples include: approaching a dangerous scene without caution, failing to ask bystanders to call emergency services, performing CPR on a person who is breathing, not applying pressure to a severe bleed, or leaving the person unattended.\"},\n",
    "    {\"role\": \"system\", \"content\": \"Incorrect behaviors include: failing to treat for shock by not laying the person down and elevating their legs, not cooling a burn under running water, not using the Heimlich maneuver when someone is choking, moving a person with a suspected spinal injury, and inducing vomiting in a poisoning case without professional advice.\"},\n",
    "    {\"role\": \"system\", \"content\": \"Ignoring the scene safety and putting yourself in danger.\"},\n",
    "    {\"role\": \"system\", \"content\": \"Not calling emergency services in a serious situation or providing unclear information.\"},\n",
    "    {\"role\": \"system\", \"content\": \"Not checking for responsiveness by failing to gently shake the person or shout to see if they respond.\"},\n",
    "    {\"role\": \"system\", \"content\": \"Performing CPR on a person who is breathing or not performing CPR correctly by not pressing hard and fast enough.\"},\n",
    "    {\"role\": \"system\", \"content\": \"Not applying direct pressure to a bleeding wound or failing to seek professional help for severe bleeding.\"},\n",
    "    {\"role\": \"system\", \"content\": \"Not laying the person down and elevating their legs to treat for shock or failing to keep them warm and calm.\"},\n",
    "    {\"role\": \"system\", \"content\": \"Not cleaning the wound properly or failing to apply an antiseptic and cover it with a sterile bandage.\"},\n",
    "    {\"role\": \"system\", \"content\": \"Not cooling a burn under running water or covering it with a material that sticks to the burn.\"},\n",
    "    {\"role\": \"system\", \"content\": \"Failing to perform the Heimlich maneuver correctly on a choking person.\"},\n",
    "    {\"role\": \"system\", \"content\": \"Moving a person with a suspected spinal injury or failing to immobilize the injured area.\"},\n",
    "    {\"role\": \"system\", \"content\": \"Not identifying the poison or inducing vomiting in a poisoning case without professional advice.\"},\n",
    "    {\"role\": \"system\", \"content\": \"Approaching an unconscious person without ensuring the scene is safe first.\"},\n",
    "    {\"role\": \"system\", \"content\": \"Not checking for responsiveness, breathing, or signs of severe bleeding when assessing an unconscious person.\"},\n",
    "    {\"role\": \"system\", \"content\": \"Not performing CPR correctly or failing to maintain the proper compression rate when the person is not breathing.\"},\n",
    "    {\"role\": \"system\", \"content\": \"Failing to communicate effectively with bystanders to call emergency services and manage the scene.\"},\n",
    "    {\"role\": \"system\", \"content\": \"If and only if the prompt includes the keyword 'incorrect' or 'wrong', state in one sentence what should not be done in this situation, mentioning only one specific incorrect action. Provide only the action without any additional context or explanation.\"}\n",
    "]\n",
    "\n",
    "# Funktion zum Überprüfen auf Schlüsselwörter und Generieren der Antwort\n",
    "def generate_response(prompt, general_context, incorrect_behavior_context):\n",
    "    if any(keyword in prompt.lower() for keyword in ['incorrect', 'wrong']):\n",
    "        context = general_context + incorrect_behavior_context\n",
    "        response = query_ollama(prompt, context)\n",
    "        # Extrahiere nur die spezifische falsche Aktion\n",
    "        match = re.search(r'(?:Incorrect action:|One incorrect action that should not be done in this situation is|Another incorrect action is|Avoid|Do not|Never)\\s*(.*)', response, re.IGNORECASE)\n",
    "        if match:\n",
    "            response = match.group(1).strip()\n",
    "    else:\n",
    "        context = general_context\n",
    "        response = query_ollama(prompt, context)\n",
    "        # Entferne jede Ausgabe, die eine falsche Aktion enthält\n",
    "        response = re.sub(r'Incorrect action:.*', '', response, flags=re.IGNORECASE).strip()\n",
    "    return response"
   ]
  },
  {
   "cell_type": "code",
   "execution_count": 227,
   "metadata": {},
   "outputs": [
    {
     "name": "stdout",
     "output_type": "stream",
     "text": [
      "Generated Question: Sure, here's a question based on the above information:\n",
      "\n",
      "What is the most important first aid technique in managing a traumatic injury?\n"
     ]
    }
   ],
   "source": [
    "# Schritt 1: Generiere eine Frage basierend auf dem gegebenen Szenario\n",
    "question_prompt = \"Based on the first aid information provided, generate a clear and relevant question that can be used in a first aid training quiz.\"\n",
    "generated_question = generate_response(question_prompt, general_context, incorrect_behavior_context)\n",
    "print(\"Generated Question:\", generated_question)"
   ]
  },
  {
   "cell_type": "code",
   "execution_count": 228,
   "metadata": {},
   "outputs": [
    {
     "name": "stdout",
     "output_type": "stream",
     "text": [
      "Correct Answer: Sure, the most important first aid technique in managing a traumatic injury is performing CPR.\n"
     ]
    }
   ],
   "source": [
    "# Schritt 2: Generiere die korrekte Antwort basierend auf dem gegebenen Szenario\n",
    "correct_answer_prompt = f\"What is the correct answer to the following question: {generated_question}? Answer in one short sentence.\"\n",
    "correct_answer = generate_response(correct_answer_prompt, general_context, incorrect_behavior_context)\n",
    "print(\"Correct Answer:\", correct_answer)"
   ]
  },
  {
   "cell_type": "code",
   "execution_count": 229,
   "metadata": {},
   "outputs": [
    {
     "name": "stdout",
     "output_type": "stream",
     "text": [
      "Incorrect Action 1: The incorrect action is not mentioned in the question, so I cannot answer this question from the provided context.\n",
      "Incorrect Action 2: Not applying direct pressure to a bleeding wound or failing to seek professional help for severe bleeding.\n"
     ]
    }
   ],
   "source": [
    "# Schritt 2: Generiere zwei falsche Aktionen basierend auf dem gegebenen Szenario, nur wenn explizit danach gefragt wird\n",
    "incorrect_action_prompt_1 = f\"What is one incorrect action that should not be done for the following question {generated_question}? Only say the incorrect action.\"\n",
    "incorrect_action_prompt_2 = f\"What is one incorrect action that should not be done for the following question {generated_question}? Only say the incorrect action.\"\n",
    "\n",
    "false_answer_1 = generate_response(incorrect_action_prompt_1, general_context, incorrect_behavior_context)\n",
    "false_answer_2 = generate_response(incorrect_action_prompt_2, general_context, incorrect_behavior_context)\n",
    "\n",
    "# Entferne den Präfix \"Incorrect action:\" und zusätzlichen Text\n",
    "false_answer_1 = re.sub(r'^(Incorrect action:|One incorrect action that should not be done in this situation is|Another incorrect action is|Avoid|Do not|Never)\\s*', '', false_answer_1, flags=re.IGNORECASE).strip()\n",
    "false_answer_2 = re.sub(r'^(Incorrect action:|One incorrect action that should not be done in this situation is|Another incorrect action is|Avoid|Do not|Never)\\s*', '', false_answer_2, flags=re.IGNORECASE).strip()\n",
    "\n",
    "print(\"Incorrect Action 1:\", false_answer_1)\n",
    "print(\"Incorrect Action 2:\", false_answer_2)\n"
   ]
  },
  {
   "cell_type": "code",
   "execution_count": 230,
   "metadata": {},
   "outputs": [
    {
     "name": "stdout",
     "output_type": "stream",
     "text": [
      "Please choose one of the following answers:\n",
      "1. Sure, the most important first aid technique in managing a traumatic injury is performing CPR.\n",
      "2. Not applying direct pressure to a bleeding wound or failing to seek professional help for severe bleeding.\n",
      "3. The incorrect action is not mentioned in the question, so I cannot answer this question from the provided context.\n"
     ]
    }
   ],
   "source": [
    "# Schritt 3: Anzeige der Antworten und Nutzereingabe\n",
    "import random\n",
    "\n",
    "answers = [\n",
    "    correct_answer,\n",
    "    false_answer_1,\n",
    "    false_answer_2\n",
    "]\n",
    "\n",
    "# Mische die Antworten\n",
    "random.shuffle(answers)\n",
    "\n",
    "# Bestimme den Index der richtigen Antwort nach dem Mischen\n",
    "correct_answer_index = answers.index(correct_answer) + 1\n",
    "\n",
    "# Zeige die Antworten an\n",
    "print(\"Please choose one of the following answers:\")\n",
    "for i, answer in enumerate(answers, 1):\n",
    "    print(f\"{i}. {answer}\")"
   ]
  },
  {
   "cell_type": "code",
   "execution_count": 185,
   "metadata": {},
   "outputs": [
    {
     "name": "stdout",
     "output_type": "stream",
     "text": [
      "Your answer is correct.\n"
     ]
    }
   ],
   "source": [
    "# Schritt 4: Der Nutzer wählt eine Antwortmöglichkeit aus\n",
    "while True:\n",
    "    try:\n",
    "        user_choice = int(input(\"Enter the number of your choice: \"))\n",
    "        if 1 <= user_choice <= 3:\n",
    "            break\n",
    "        else:\n",
    "            print(\"Please enter a number between 1 and 3.\")\n",
    "    except ValueError:\n",
    "        print(\"Invalid input. Please enter a number between 1 and 3.\")\n",
    "\n",
    "# Schritt 5: Überprüfung der Antwort des Nutzers\n",
    "if user_choice == correct_answer_index:\n",
    "    print(\"Your answer is correct.\")\n",
    "else:\n",
    "    print(f\"Your answer is incorrect. The correct answer was: {correct_answer_index}. {answers[correct_answer_index - 1]}\")"
   ]
  },
  {
   "cell_type": "code",
   "execution_count": 153,
   "metadata": {},
   "outputs": [
    {
     "name": "stdout",
     "output_type": "stream",
     "text": [
      "Your answer is correct.\n"
     ]
    }
   ],
   "source": []
  }
 ],
 "metadata": {
  "kernelspec": {
   "display_name": "masterthesis",
   "language": "python",
   "name": "python3"
  },
  "language_info": {
   "codemirror_mode": {
    "name": "ipython",
    "version": 3
   },
   "file_extension": ".py",
   "mimetype": "text/x-python",
   "name": "python",
   "nbconvert_exporter": "python",
   "pygments_lexer": "ipython3",
   "version": "3.10.14"
  }
 },
 "nbformat": 4,
 "nbformat_minor": 2
}
